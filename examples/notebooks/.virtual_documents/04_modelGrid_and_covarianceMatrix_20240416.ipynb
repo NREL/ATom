%load_ext autoreload
%autoreload 2

# hardware
import os
# analysis
import numpy as np
import xarray as xr
import pandas as pd
from scipy.integrate import simps
from scipy.interpolate import RegularGridInterpolator
# vis
import matplotlib.pyplot as plt
plt.style.use('seaborn-v0_8-deep')

# Acoustic tomography package
import atom
# configuration object
from hydra import initialize, compose
from hydra.utils import instantiate
with initialize(version_base=None, config_path="../../conf/"):
    cfg = compose(config_name="configs",)





## Array data
atarray = instantiate(cfg.atarray)
atarray.setupPathIntegrals()

## Constants
constants = instantiate(cfg.constants)

## Bulk flow linear system
### instatiate from saved data
ls = atom.backgroundFlow.linearsystem.LinearSystem.from_netcdf('../bulkField_example_data.nc')





# ModelGrid object
mg = atom.fluctuatingField.ModelGrid(
    nModelPointsX=51, 
    nModelPointsY=51, 
    modelLimsX=np.array([-50,50]), 
    modelLimsY=np.array([-50,50])
)
mg.buildModelGrid()


mg.ds





# cfg.covariancematrix['nFrames'] = 2

cm = atom.fluctuatingField.CovarianceMatrices(
    cfg.covariancematrix,
    mg.ds, 
    atarray.ds,
    ls.ds,
)
cm.assembleTDSICovarianceMatrices()
# cm.to_pickle(f'../covarianceMatrices_nF={cfg.covariancematrix.nFrames}_example.pk')

# cm = atom.fluctuatingField.CovarianceMatrices.from_pickle('covarianceMatrices_nF=6.pk')





fig, ax = plt.subplots(2,2, figsize=(8,6))
ax=ax.flatten()

pointID = np.random.randint(len(cm.ds.modelXY))

cm.ds.B_uu.isel(modelXY=pointID).T.plot(ax=ax[0])
cm.ds.B_vv.isel(modelXY=pointID).T.plot(ax=ax[1])
cm.ds.B_uv.isel(modelXY=pointID).T.plot(ax=ax[2])
cm.ds.B_TT.isel(modelXY=pointID).T.plot(ax=ax[3])

fig.tight_layout()





cm.ds['modelXY'] = mg.ds.modelXY

fig, ax = plt.subplots(1,3, figsize=(12,3.5))
cm.ds.Bmd.sel(component='u', tdsiFrame=0).sum(dim='pathID').unstack().plot(ax=ax[0])
cm.ds.Bmd.sel(component='v', tdsiFrame=0).sum(dim='pathID').unstack().plot(ax=ax[1])
cm.ds.Bmd.sel(component='T', tdsiFrame=0).sum(dim='pathID').unstack().plot(ax=ax[2])

fig.tight_layout()





plt.pcolor(cm.ds.Bdd.unstack().stack(NI = ['tdsiFrame', 'spk','mic'],
                          NI_duplicate = ['tdsiFrame_duplicate', 'spk_duplicate', 'mic_duplicate']).values)
              
