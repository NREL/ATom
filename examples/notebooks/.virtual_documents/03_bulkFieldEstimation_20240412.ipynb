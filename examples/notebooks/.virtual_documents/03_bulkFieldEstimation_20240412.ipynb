%load_ext autoreload
%autoreload 2

# hardware
import os
# analysis
import numpy as np
import xarray as xr
import pandas as pd
from scipy.integrate import simps
from scipy.interpolate import RegularGridInterpolator
# vis
import matplotlib.pyplot as plt
plt.style.use('seaborn-v0_8-deep')

# Acoustic tomography package
import atom
# configuration object
from hydra import initialize, compose
from hydra.utils import instantiate
with initialize(version_base=None, config_path="../../conf/"):
    cfg = compose(config_name="configs",)





## Load data
### Array data
atarray = instantiate(cfg.atarray)

### Auxiliary data
auxdata = instantiate(cfg.auxdata)
auxDataPath = "/Users/nhamilt2/Documents/ATom/data/Data_collection_20190815/20190815123732_AcouTomAuxData.txt"
auxdata.loadData(auxDataPath)

### Constants
constants = instantiate(cfg.constants)

### TravelTimeExtractor
ttextractor = atom.signalProc.TravelTimeExtractor.from_netcdf('../extractedTravelTimes_example.nc')





ls = atom.backgroundFlow.linearsystem.LinearSystem(
    atarray=atarray.ds,
    measuredTravelTime=ttextractor.ds.filteredMeasuredTravelTimes,
    constants=constants
)

ls.executeProcess()
# update pathID index to match the definition in the atarray object
ls.ds['pathID'] = atarray.ds.pathID
# store linearSystem dataset as netcdf file
ls.to_netcdf('../bulkField_example_data.nc')





ls.ds


ls.ds['time'] = ls.ds['frame']*0.5
ls.ds = ls.ds.swap_dims({'frame':'time'})


auxdata.ds['time'] = auxdata.ds.time.values.astype(float)/10**9


fig, ax = plt.subplots(3,1, figsize=(5,5), sharex=True)

ls.ds.u.plot(ax=ax[0])
auxdata.ds.u.plot(ax=ax[0])

ls.ds.v.plot(ax=ax[1])
auxdata.ds.v.plot(ax=ax[1])

ls.ds.c.plot(ax=ax[2], label='AT array')
auxdata.ds.c.plot(ax=ax[2], label='Sonic')
ax[2].legend()

fig.tight_layout()
