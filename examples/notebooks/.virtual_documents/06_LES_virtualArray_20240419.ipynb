%load_ext autoreload
%autoreload 2

# hardware
import os
# analysis
import numpy as np
import xarray as xr
import pandas as pd
from scipy.integrate import simps
from scipy.interpolate import RegularGridInterpolator
# vis
import matplotlib.pyplot as plt
plt.style.use('seaborn-v0_8-deep')

# Acoustic tomography package
import atom
# configuration object
from hydra import initialize, compose
from hydra.utils import instantiate
with initialize(version_base=None, config_path="../../conf/"):
    cfg = compose(config_name="configs",)





### Array data
atarray = instantiate(cfg.atarray)
atarray.setupPathIntegrals()
constants = instantiate(cfg.constants)


# load LES data, estimate travel times
datapath = '/Users/nhamilt2/Documents/ATom/data/AT_array_sampling_z=9.5_6.66667Hz.nc'
les = atom.simulation.LESData(loadPath=datapath, atarray=atarray.ds, constants=constants)
les.calculate_travel_time()

# calculate fluctuating velocities
TFluc = les.ds.T - les.ds.TBulk
uFluc = les.ds.u - les.ds.uBulk
vFluc = les.ds.v - les.ds.vBulk

#downsample to match model grid
lesVals = xr.concat([TFluc, uFluc, vFluc], dim='component')
lesVals['component'] = ['T','u','v']
# lesVals = lesVals.sel(x=mg.ds.unstack().x, y=mg.ds.unstack().y, method='nearest')
lesVals = lesVals.stack(modelVar=['component','x','y'])
lesVals.name='modelVals'

Tfluc = lesVals.sel(component='T').unstack()
ufluc = lesVals.sel(component='u').unstack()
vfluc = lesVals.sel(component='v').unstack()

ls = atom.backgroundFlow.linearsystem.LinearSystem(
    atarray=atarray.ds,
    measuredTravelTime=les.ds.travelTimes.rename({'time':'frame'}),
    constants=constants
)
ls.executeProcess()





#Build model grid
mg = atom.fluctuatingField.ModelGrid(
    nModelPointsX=len(lesVals.unstack().x), 
    nModelPointsY=len(lesVals.unstack().y), 
    modelLimsX=np.array([lesVals.x.values.min(), lesVals.x.values.max()]), 
    modelLimsY=np.array([lesVals.y.values.min(), lesVals.y.values.max()])
)
mg.buildModelGrid()


# Covariance Matrix object
cfg.covariancematrix['nFrames'] = 4

# cm = atom.fluctuatingField.CovarianceMatrices(
#     cfg.covariancematrix,
#     mg.getDataset(), 
#     atarray.ds,
#     ls.ds,
# )
# cm.assembleTDSICovarianceMatrices()
# cm.to_pickle(f'../covarianceMatrices_nF={cfg.covariancematrix.nFrames}_example.pk')

cm = atom.fluctuatingField.CovarianceMatrices.from_pickle(f'../covarianceMatrices_nF={cfg.covariancematrix.nFrames}_example.pk')


tdsi = atom.fluctuatingField.TimeDependentStochasticInversion(
    modelGrid=mg.ds, 
    atarray=atarray.ds, 
    covarMatrices=cm.ds,
    bulkFlowData=ls.ds,
    stencil=cm.stencil,
    frameSets=cm.frameSets
)

tdsi.optimalStochasticInverseOperator()
tdsi.assembleDataVector()
tdsi.calculateFluctuatingFields()





tdsi.ds


# estimate optimal data vector (map backward)
ATA = tdsi.ds.stochasticInverseOperator.T.values @ tdsi.ds.stochasticInverseOperator.values
optimalDataVector = np.linalg.pinv(ATA) @ (tdsi.ds.stochasticInverseOperator.values.T @ lesVals.values.T)
# estimate model state (map forward again)
retreival = tdsi.ds.stochasticInverseOperator.values @ optimalDataVector
coords = {
    'component':['T','u','v'], 
    'x': mg.ds.unstack().x.values,
    'y': mg.ds.unstack().y.values,
    'time': tdsi.ds.frame.values,
 }
retreival = xr.DataArray(data=retreival.reshape([ 3, 81, 81, 4002,]), coords=coords)


timeID = np.random.randint(4002)
time = retreival.time[timeID]

fig, ax = plt.subplots(2,3, figsize=(12,7), sharex=True, sharey=True)

for ic, comp in enumerate(retreival.component):
    lesVals.unstack().sel(time=time, component=comp).T.plot(ax=ax[0,ic])
    retreival.sel(time=time, component=comp).T.plot(ax=ax[1,ic])
    
fig.tight_layout()





mg.ds
