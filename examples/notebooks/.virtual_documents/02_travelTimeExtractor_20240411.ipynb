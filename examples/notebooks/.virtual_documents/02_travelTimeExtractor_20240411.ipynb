%load_ext autoreload
%autoreload 2

# hardware
import os
# analysis
import numpy as np
import xarray as xr
import pandas as pd
from scipy.integrate import simps
from scipy.interpolate import RegularGridInterpolator
# vis
import matplotlib.pyplot as plt
plt.style.use('seaborn-v0_8-deep')

# Acoustic tomography package
import atom
# configuration object
from hydra import initialize, compose
from hydra.utils import instantiate
with initialize(version_base=None, config_path="../../conf/"):
    cfg = compose(config_name="configs",)





### Array data
atarray = instantiate(cfg.atarray)

### Microphone data
audiodata = instantiate(cfg.audiodata)
mainDataPath = "../MainData_example.txt"
audiodata.loadData(mainDataPath)

### Auxiliary data
auxdata = instantiate(cfg.auxdata)
auxDataPath = "../AuxData_example.txt"
auxdata.loadData(auxDataPath)

## Constants
constants = instantiate(cfg.constants)





## TravelTimeExtractor
ttextractor = atom.signalProc.TravelTimeExtractor(
    atarray=atarray.ds,
    audiodata=audiodata.ds,
    auxdata=auxdata.ds,
    configData=cfg.traveltimeextractor,
)
ttextractor.extractTravelTimes()








fig, ax = plt.subplots(2,2, figsize=(6,5))

ax=ax.flatten()
ax[0].bar(ttextractor.audiodata.spk, ttextractor.audiodata.speakerSignalEmissionTime)
ax[0].set_xlabel('Speaker Number')
ax[0].set_ylabel('Signal Emission Time [s]')
ax[0].set_title('speakerSignalEmissionTime')

ttextractor.atarray.hardwareSignalDelays.unstack().plot(ax=ax[1])
ax[1].set_title('hardwareSignalDelays')

ttextractor.atarray.npsSpeakerDelays.unstack().plot(ax=ax[2])
ax[2].set_title('npsSpeakerDelays')

ttextractor.ds.signalDelayOffset.unstack().mean(dim='frame').plot(ax=ax[3])
ax[3].set_title('signalDelayOffset')


fig.tight_layout()





ttextractor.ds.expectedTravelTimes.mean(dim='frame').unstack().plot()





ttextractor.ds.expectedSignalArrivalTimes.mean(dim='frame').unstack().plot()








fig, ax = plt.subplots()
c=plt.cm.viridis(np.linspace(0,1,audiodata.ds.nMics))

micNumber = 4
audiodata.ds.micData.sel(frame=0, mic=micNumber).plot(ax=ax, label=f'Raw', alpha=1)
ttextractor.micDataFiltered.sel(frame=0, mic=micNumber).plot(ax=ax, 
                                                             label=f'Filtered', 
                                                             c=c[micNumber,:],
                                                             alpha=1)

for ii in range(ttextractor.audiodata.nSpeakers-1):
    if ii == micNumber:
        continue
    ax.axvline(10**9 * ttextractor.ds.expectedSignalArrivalTimes.sel(mic=micNumber, frame=0, spk=ii), ls='--', c='C4', zorder=-10)
    ax.axvline(10**9 * ttextractor.ds.detectedSignalTimes.sel(mic=micNumber, frame=0, spk=ii), ls='--', c='C2', zorder=-10)
    
ax.axvline(10**9 * ttextractor.ds.expectedSignalArrivalTimes.sel(mic=micNumber, frame=0, spk=ttextractor.audiodata.nSpeakers-1), ls='--', c='C4', zorder=-10, label='Expeceted Arrival')
ax.axvline(10**9 * ttextractor.ds.detectedSignalTimes.sel(mic=micNumber, frame=0, spk=ttextractor.audiodata.nSpeakers-1), ls='--', c='C2', zorder=-10, label='Detected Arrival')

plt.ylabel('Intensity [dB]')
plt.legend()


fig, ax = plt.subplots(1,2, figsize=(8,3.15))
ttextractor.ds.timeDeltas.mean(dim='frame').unstack().plot(ax=ax[0])
ttextractor.ds.timeDeltas.std(dim='frame').unstack().plot(ax=ax[1])
fig.tight_layout()





ttextractor.ds.signalOutlier.sum(dim='frame').unstack().plot()





hist = plt.hist(ttextractor.ds.timeDeltas.values.flatten(), bins=np.arange(-0.07, 0.071, 0.01), ec='.25')


delta_theta = atarray.ds.pathOrientation - ads.uDir.resample(time='60S').mean()
theta_i = atarray.ds.pathOrientation
Li = atarray.ds.pathLength

tt_err = ttds.timeDeltas # detected - expected signal arrival times
tt_err_mean = tt_err.mean(dim='time')
# estimated
tt_est = ttds.expectedTravelTimes
# Measured
tt_meas = ttds.filteredMeasuredTravelTimes#(ttds.detectedSignalTimes.unstack() - audiodata.ds.speakerSignalEmissionTime).stack(pathID=['spk','mic']).dropna(dim='pathID', how='all')
# Fill NaN values with the mean along the 'x' dimension
tt_meas = tt_meas.combine_first(tt_meas.mean(dim='new'))



### Save xr.dataset as netcdf
ttextractor.to_netcdf('../extractedTravelTimes_example.nc')
