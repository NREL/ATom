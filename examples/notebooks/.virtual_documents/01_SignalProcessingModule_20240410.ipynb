%load_ext autoreload
%autoreload 2

# hardware
import os
# analysis
import numpy as np
import xarray as xr
import pandas as pd
from scipy.integrate import simps
from scipy.interpolate import RegularGridInterpolator
# vis
import matplotlib.pyplot as plt
plt.style.use('seaborn-v0_8-deep')

# Acoustic tomography package
import atom
# configuration object
from hydra import initialize, compose
from hydra.utils import instantiate
with initialize(version_base=None, config_path="../../conf/"):
    cfg = compose(config_name="configs",)





### Array data
atarray = instantiate(cfg.atarray)
atarray.setupPathIntegrals()


fig, ax = plt.subplots(1,2, figsize=(7,3.5), sharex=True, sharey=True)

ax[0] = atarray.plotSpkMicLocations(ax=ax[0])

c = plt.cm.viridis(np.linspace(0, 1, len(atarray.ds.pathID)))
ax[1] = atarray.plotPaths(ax=ax[1], c=c)

fig.tight_layout()





### Auxiliary data
auxdata = instantiate(cfg.auxdata)
auxDataPath = "../AuxData_example.txt"
auxdata.loadData(auxDataPath)


fig, ax = plt.subplots(5,1, figsize=(5, 6), sharex=True)

for ii, var in enumerate(['u','v','c','T','H']):
    auxdata.ds[var].plot(ax=ax[ii], c=f'C{ii}')
fig.tight_layout()


auxdata.calculateSpectra()

fig, ax = plt.subplots(5,1, figsize=(5, 6), sharex=True)

for ii, var in enumerate(['u','v','uz','T','H']):
    ax[ii].loglog(auxdata.ds.frequency, auxdata.ds[f'S_{var}'], c=f'C{ii}')
    ax[ii].set_ylabel(f'$S_{{{var}}}$ [{auxdata.ds[f"S_{var}"].units}]')
ax[-1].set_xlabel('Frequency [Hz]')
fig.tight_layout()



auxdata.autoCorrelation()

fig, ax = plt.subplots(figsize=(5, 3.5))

for ii, var in enumerate(['u','v','uz','T','H']):
    ax.plot(auxdata.ds.time, auxdata.ds[f'rho_{var}'], c=f'C{ii}', label=f'$\\rho_{{{var}}}$')
ax.set_ylabel(f'Autocorrelation Coefficient [-]')
ax.set_xlabel('Time lag [s]')

ax.legend()

fig.tight_layout()



auxdata.integral_scale()
auxdata.ds.attrs





### Microphone data
audiodata = instantiate(cfg.audiodata)
mainDataPath = "../MainData_example.txt"
audiodata.loadData(mainDataPath)


audiodata.ds


fig, ax = plt.subplots(figsize=(5,3.5))
ax.plot(audiodata.ds.time, audiodata.ds.refSig, label='Reference Signal')
ax.set_xlabel('Time [s]')
ax.set_ylabel('Intensity [-]')


fig,ax = plt.subplots(figsize=(6,3), sharex=True, sharey=True)

c=plt.cm.viridis(np.linspace(0,1,audiodata.ds.nMics))

for ii, mic in enumerate(audiodata.ds.mic):
    audiodata.ds.micData.sel(frame=0, mic=mic).plot(ax=ax, label=f'Mic {ii}', c=c[ii,:])
ax.set_title('Microphone data')
ax.set_ylabel(f'Intensity [dB]')
ax.legend(loc=6, bbox_to_anchor=(1,0.5))
fig.tight_layout()


fig,ax = plt.subplots(figsize=(6,3), sharex=True, sharey=True)

c=plt.cm.viridis(np.linspace(0,1,audiodata.ds.nMics))

micNumber = 4
audiodata.ds.micData.sel(frame=0, mic=micNumber).plot(ax=ax, label=f'Mic {micNumber}', c=c[micNumber,:])
ax.set_title('Microphone data')
ax.set_ylabel(f'Intensity [dB]')
ax.legend(loc=6, bbox_to_anchor=(1,0.5))
fig.tight_layout()
