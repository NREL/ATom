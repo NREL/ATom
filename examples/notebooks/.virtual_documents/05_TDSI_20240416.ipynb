%load_ext autoreload
%autoreload 2

# hardware
import os
# analysis
import numpy as np
import xarray as xr
import pandas as pd
from scipy.integrate import simps
from scipy.interpolate import RegularGridInterpolator
# vis
import matplotlib.pyplot as plt
plt.style.use('seaborn-v0_8-deep')

# Acoustic tomography package
import atom
# configuration object
from hydra import initialize, compose
from hydra.utils import instantiate
with initialize(version_base=None, config_path="../../conf/"):
    cfg = compose(config_name="configs",)





## Array data
atarray = instantiate(cfg.atarray)
atarray.setupPathIntegrals()

## Constants
constants = instantiate(cfg.constants)

# ModelGrid object
mg = atom.fluctuatingField.ModelGrid(
    nModelPointsX=51, 
    nModelPointsY=51, 
    modelLimsX=np.array([-50,50]), 
    modelLimsY=np.array([-50,50])
)
mg.buildModelGrid()

## Bulk flow linear system
### instatiate from saved data
ls = atom.backgroundFlow.LinearSystem.from_netcdf('../bulkField_example_data.nc')
cm = atom.fluctuatingField.CovarianceMatrices.from_pickle('../covarianceMatrices_nF=2_example.pk')


tdsi = atom.fluctuatingField.TimeDependentStochasticInversion(
    modelGrid=mg.ds, 
    atarray=atarray.ds, 
    covarMatrices=cm.ds,
    bulkFlowData=ls.ds,
    stencil=cm.stencil,
    frameSets=cm.frameSets
)

tdsi.optimalStochasticInverseOperator()
tdsi.assembleDataVector()
tdsi.calculateFluctuatingFields()


plt.pcolor(tdsi.ds.dataVector.values)
plt.xlabel('Path ID
